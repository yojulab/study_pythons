{
  "nbformat": 4,
  "nbformat_minor": 0,
  "metadata": {
    "colab": {
      "provenance": [],
      "include_colab_link": true
    },
    "kernelspec": {
      "name": "python3",
      "display_name": "Python 3"
    },
    "language_info": {
      "name": "python"
    }
  },
  "cells": [
    {
      "cell_type": "markdown",
      "metadata": {
        "id": "view-in-github",
        "colab_type": "text"
      },
      "source": [
        "<a href=\"https://colab.research.google.com/github/yojulab/study_pythons/blob/main/codes/02_variables.ipynb\" target=\"_parent\"><img src=\"https://colab.research.google.com/assets/colab-badge.svg\" alt=\"Open In Colab\"/></a>"
      ]
    },
    {
      "cell_type": "code",
      "execution_count": null,
      "metadata": {
        "id": "cd_yuf4NreOI",
        "colab": {
          "base_uri": "https://localhost:8080/"
        },
        "outputId": "5d0bc851-280f-4c60-8ed6-e96276f5a7a9"
      },
      "outputs": [
        {
          "output_type": "stream",
          "name": "stdout",
          "text": [
            "1 0 2\n",
            "0 1 2\n",
            "2 1 0\n",
            "2 0 1\n"
          ]
        }
      ],
      "source": [
        "first_string=\"1\"\n",
        "second_string=\"0\"\n",
        "thrid_string=\"2\"\n",
        "print(first_string, second_string, thrid_string)\n",
        "\n",
        "first_string=\"0\"\n",
        "second_string=\"1\"\n",
        "thrid_string=\"2\"\n",
        "print(first_string, second_string, thrid_string)\n",
        "\n",
        "first_string=\"2\"\n",
        "second_string=\"1\"\n",
        "thrid_string=\"0\"\n",
        "print(first_string,second_string, thrid_string)\n",
        "\n",
        "first_string=\"2\"\n",
        "second_string=\"0\"\n",
        "thrid_string=\"1\"\n",
        "print(first_string, second_string, thrid_string)\n"
      ]
    },
    {
      "cell_type": "code",
      "source": [
        "print(\"push to github\")"
      ],
      "metadata": {
        "id": "DKU9zYnYv2cW",
        "colab": {
          "base_uri": "https://localhost:8080/"
        },
        "outputId": "b14313fd-5948-427b-98e7-900f699aee81"
      },
      "execution_count": null,
      "outputs": [
        {
          "output_type": "stream",
          "name": "stdout",
          "text": [
            "push to github\n"
          ]
        }
      ]
    },
    {
      "cell_type": "code",
      "source": [],
      "metadata": {
        "id": "faUYpo5PY-Bc"
      },
      "execution_count": null,
      "outputs": []
    }
  ]
}